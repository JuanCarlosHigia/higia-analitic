{
 "cells": [
  {
   "cell_type": "code",
   "execution_count": 2,
   "metadata": {},
   "outputs": [],
   "source": [
    "import pandas as pd\n",
    "import altair as alt\n",
    "import json\n",
    "import math\n",
    "from datetime import datetime"
   ]
  },
  {
   "cell_type": "code",
   "execution_count": 4,
   "metadata": {},
   "outputs": [
    {
     "name": "stdout",
     "output_type": "stream",
     "text": [
      "_id                                                 Patient_230159_1\n",
      "ant                                                        ['C18.9']\n",
      "encounters         [{'_id': 'Encounter_230159_2050_1', 'date': '2...\n",
      "gender                                                          male\n",
      "geoLocationInfo                       {'country': 'Spain', 'CA': ''}\n",
      "id                                                  Patient_230159_1\n",
      "invoices                                                          []\n",
      "sourceData                                               SpanishDDBB\n",
      "switchDate                                                         0\n",
      "year                                                            1991\n",
      "Name: 0, dtype: object\n"
     ]
    }
   ],
   "source": [
    "df = pd.read_csv(\"./conjuntaRecortadaToCSV.csv\")\n",
    "totalCountPatients= df.shape[0]\n",
    "\n",
    "print(df.loc[0])"
   ]
  }
 ],
 "metadata": {
  "kernelspec": {
   "display_name": "Python 3",
   "language": "python",
   "name": "python3"
  },
  "language_info": {
   "codemirror_mode": {
    "name": "ipython",
    "version": 3
   },
   "file_extension": ".py",
   "mimetype": "text/x-python",
   "name": "python",
   "nbconvert_exporter": "python",
   "pygments_lexer": "ipython3",
   "version": "3.10.12"
  }
 },
 "nbformat": 4,
 "nbformat_minor": 2
}
